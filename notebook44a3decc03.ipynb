{
 "cells": [
  {
   "cell_type": "code",
   "execution_count": 1,
   "id": "ee35619c",
   "metadata": {
    "_cell_guid": "b1076dfc-b9ad-4769-8c92-a6c4dae69d19",
    "_uuid": "8f2839f25d086af736a60e9eeb907d3b93b6e0e5",
    "execution": {
     "iopub.execute_input": "2025-06-25T14:04:35.730849Z",
     "iopub.status.busy": "2025-06-25T14:04:35.730441Z",
     "iopub.status.idle": "2025-06-25T14:04:39.931571Z",
     "shell.execute_reply": "2025-06-25T14:04:39.930322Z"
    },
    "papermill": {
     "duration": 4.207708,
     "end_time": "2025-06-25T14:04:39.933184",
     "exception": false,
     "start_time": "2025-06-25T14:04:35.725476",
     "status": "completed"
    },
    "tags": []
   },
   "outputs": [
    {
     "name": "stdout",
     "output_type": "stream",
     "text": [
      "/kaggle/input/playground-series-s5e6/sample_submission.csv\n",
      "/kaggle/input/playground-series-s5e6/train.csv\n",
      "/kaggle/input/playground-series-s5e6/test.csv\n"
     ]
    }
   ],
   "source": [
    "# This Python 3 environment comes with many helpful analytics libraries installed\n",
    "# It is defined by the kaggle/python Docker image: https://github.com/kaggle/docker-python\n",
    "# For example, here's several helpful packages to load\n",
    "\n",
    "import numpy as np # linear algebra\n",
    "import pandas as pd # data processing, CSV file I/O (e.g. pd.read_csv)\n",
    "from sklearn.preprocessing import LabelEncoder\n",
    "from xgboost import XGBClassifier\n",
    "from sklearn.model_selection import KFold, cross_val_score, GridSearchCV\n",
    "import time\n",
    "# Input data files are available in the read-only \"../input/\" directory\n",
    "# For example, running this (by clicking run or pressing Shift+Enter) will list all files under the input directory\n",
    "\n",
    "import os\n",
    "for dirname, _, filenames in os.walk('/kaggle/input'):\n",
    "    for filename in filenames:\n",
    "        print(os.path.join(dirname, filename))\n",
    "\n",
    "# You can write up to 20GB to the current directory (/kaggle/working/) that gets preserved as output when you create a version using \"Save & Run All\" \n",
    "# You can also write temporary files to /kaggle/temp/, but they won't be saved outside of the current session"
   ]
  },
  {
   "cell_type": "code",
   "execution_count": 2,
   "id": "1d661806",
   "metadata": {
    "execution": {
     "iopub.execute_input": "2025-06-25T14:04:39.941397Z",
     "iopub.status.busy": "2025-06-25T14:04:39.940939Z",
     "iopub.status.idle": "2025-06-25T14:04:41.535093Z",
     "shell.execute_reply": "2025-06-25T14:04:41.534139Z"
    },
    "papermill": {
     "duration": 1.600205,
     "end_time": "2025-06-25T14:04:41.536994",
     "exception": false,
     "start_time": "2025-06-25T14:04:39.936789",
     "status": "completed"
    },
    "tags": []
   },
   "outputs": [],
   "source": [
    "#train the data\n",
    "train_df = pd.read_csv(\"/kaggle/input/playground-series-s5e6/train.csv\")\n",
    "test_df = pd.read_csv('/kaggle/input/playground-series-s5e6/test.csv')\n",
    "sample_submission_csv = pd.read_csv('/kaggle/input/playground-series-s5e6/sample_submission.csv')"
   ]
  },
  {
   "cell_type": "code",
   "execution_count": 3,
   "id": "615737b8",
   "metadata": {
    "execution": {
     "iopub.execute_input": "2025-06-25T14:04:41.545358Z",
     "iopub.status.busy": "2025-06-25T14:04:41.544911Z",
     "iopub.status.idle": "2025-06-25T14:04:41.574852Z",
     "shell.execute_reply": "2025-06-25T14:04:41.573847Z"
    },
    "papermill": {
     "duration": 0.03614,
     "end_time": "2025-06-25T14:04:41.576462",
     "exception": false,
     "start_time": "2025-06-25T14:04:41.540322",
     "status": "completed"
    },
    "tags": []
   },
   "outputs": [
    {
     "name": "stdout",
     "output_type": "stream",
     "text": [
      "(750000, 10)\n",
      "(250000, 9)\n"
     ]
    },
    {
     "data": {
      "text/html": [
       "<div>\n",
       "<style scoped>\n",
       "    .dataframe tbody tr th:only-of-type {\n",
       "        vertical-align: middle;\n",
       "    }\n",
       "\n",
       "    .dataframe tbody tr th {\n",
       "        vertical-align: top;\n",
       "    }\n",
       "\n",
       "    .dataframe thead th {\n",
       "        text-align: right;\n",
       "    }\n",
       "</style>\n",
       "<table border=\"1\" class=\"dataframe\">\n",
       "  <thead>\n",
       "    <tr style=\"text-align: right;\">\n",
       "      <th></th>\n",
       "      <th>id</th>\n",
       "      <th>Temparature</th>\n",
       "      <th>Humidity</th>\n",
       "      <th>Moisture</th>\n",
       "      <th>Soil Type</th>\n",
       "      <th>Crop Type</th>\n",
       "      <th>Nitrogen</th>\n",
       "      <th>Potassium</th>\n",
       "      <th>Phosphorous</th>\n",
       "      <th>Fertilizer Name</th>\n",
       "    </tr>\n",
       "  </thead>\n",
       "  <tbody>\n",
       "    <tr>\n",
       "      <th>0</th>\n",
       "      <td>0</td>\n",
       "      <td>37</td>\n",
       "      <td>70</td>\n",
       "      <td>36</td>\n",
       "      <td>Clayey</td>\n",
       "      <td>Sugarcane</td>\n",
       "      <td>36</td>\n",
       "      <td>4</td>\n",
       "      <td>5</td>\n",
       "      <td>28-28</td>\n",
       "    </tr>\n",
       "    <tr>\n",
       "      <th>1</th>\n",
       "      <td>1</td>\n",
       "      <td>27</td>\n",
       "      <td>69</td>\n",
       "      <td>65</td>\n",
       "      <td>Sandy</td>\n",
       "      <td>Millets</td>\n",
       "      <td>30</td>\n",
       "      <td>6</td>\n",
       "      <td>18</td>\n",
       "      <td>28-28</td>\n",
       "    </tr>\n",
       "    <tr>\n",
       "      <th>2</th>\n",
       "      <td>2</td>\n",
       "      <td>29</td>\n",
       "      <td>63</td>\n",
       "      <td>32</td>\n",
       "      <td>Sandy</td>\n",
       "      <td>Millets</td>\n",
       "      <td>24</td>\n",
       "      <td>12</td>\n",
       "      <td>16</td>\n",
       "      <td>17-17-17</td>\n",
       "    </tr>\n",
       "    <tr>\n",
       "      <th>3</th>\n",
       "      <td>3</td>\n",
       "      <td>35</td>\n",
       "      <td>62</td>\n",
       "      <td>54</td>\n",
       "      <td>Sandy</td>\n",
       "      <td>Barley</td>\n",
       "      <td>39</td>\n",
       "      <td>12</td>\n",
       "      <td>4</td>\n",
       "      <td>10-26-26</td>\n",
       "    </tr>\n",
       "    <tr>\n",
       "      <th>4</th>\n",
       "      <td>4</td>\n",
       "      <td>35</td>\n",
       "      <td>58</td>\n",
       "      <td>43</td>\n",
       "      <td>Red</td>\n",
       "      <td>Paddy</td>\n",
       "      <td>37</td>\n",
       "      <td>2</td>\n",
       "      <td>16</td>\n",
       "      <td>DAP</td>\n",
       "    </tr>\n",
       "  </tbody>\n",
       "</table>\n",
       "</div>"
      ],
      "text/plain": [
       "   id  Temparature  Humidity  Moisture Soil Type  Crop Type  Nitrogen  \\\n",
       "0   0           37        70        36    Clayey  Sugarcane        36   \n",
       "1   1           27        69        65     Sandy    Millets        30   \n",
       "2   2           29        63        32     Sandy    Millets        24   \n",
       "3   3           35        62        54     Sandy     Barley        39   \n",
       "4   4           35        58        43       Red      Paddy        37   \n",
       "\n",
       "   Potassium  Phosphorous Fertilizer Name  \n",
       "0          4            5           28-28  \n",
       "1          6           18           28-28  \n",
       "2         12           16        17-17-17  \n",
       "3         12            4        10-26-26  \n",
       "4          2           16             DAP  "
      ]
     },
     "execution_count": 3,
     "metadata": {},
     "output_type": "execute_result"
    }
   ],
   "source": [
    "print(train_df.shape)\n",
    "print(test_df.shape)\n",
    "train_df.head()"
   ]
  },
  {
   "cell_type": "code",
   "execution_count": 4,
   "id": "aa4c62e4",
   "metadata": {
    "execution": {
     "iopub.execute_input": "2025-06-25T14:04:41.586078Z",
     "iopub.status.busy": "2025-06-25T14:04:41.585468Z",
     "iopub.status.idle": "2025-06-25T14:04:41.627180Z",
     "shell.execute_reply": "2025-06-25T14:04:41.626121Z"
    },
    "papermill": {
     "duration": 0.048384,
     "end_time": "2025-06-25T14:04:41.628944",
     "exception": false,
     "start_time": "2025-06-25T14:04:41.580560",
     "status": "completed"
    },
    "tags": []
   },
   "outputs": [],
   "source": [
    "x = train_df.drop(columns=['Fertilizer Name', 'id'])\n",
    "y = train_df['Fertilizer Name']\n",
    "x_test = test_df.drop(columns=['id'])"
   ]
  },
  {
   "cell_type": "code",
   "execution_count": 5,
   "id": "218d4df7",
   "metadata": {
    "execution": {
     "iopub.execute_input": "2025-06-25T14:04:41.637098Z",
     "iopub.status.busy": "2025-06-25T14:04:41.636803Z",
     "iopub.status.idle": "2025-06-25T14:04:41.781565Z",
     "shell.execute_reply": "2025-06-25T14:04:41.780686Z"
    },
    "papermill": {
     "duration": 0.150793,
     "end_time": "2025-06-25T14:04:41.783264",
     "exception": false,
     "start_time": "2025-06-25T14:04:41.632471",
     "status": "completed"
    },
    "tags": []
   },
   "outputs": [],
   "source": [
    "le = LabelEncoder()\n",
    "y_encoded = le.fit_transform(y)"
   ]
  },
  {
   "cell_type": "code",
   "execution_count": 6,
   "id": "9802f8a6",
   "metadata": {
    "execution": {
     "iopub.execute_input": "2025-06-25T14:04:41.791256Z",
     "iopub.status.busy": "2025-06-25T14:04:41.790905Z",
     "iopub.status.idle": "2025-06-25T14:04:42.146387Z",
     "shell.execute_reply": "2025-06-25T14:04:42.145450Z"
    },
    "papermill": {
     "duration": 0.361693,
     "end_time": "2025-06-25T14:04:42.148259",
     "exception": false,
     "start_time": "2025-06-25T14:04:41.786566",
     "status": "completed"
    },
    "tags": []
   },
   "outputs": [],
   "source": [
    "le_soil = LabelEncoder()\n",
    "x['Soil Type'] = le_soil.fit_transform(x['Soil Type']).astype(int)\n",
    "x_test['Soil Type'] = le_soil.transform(x_test['Soil Type']).astype(int)\n",
    "le_crop = LabelEncoder()\n",
    "x['Crop Type'] = le_crop.fit_transform(x['Crop Type']).astype(int)\n",
    "x_test['Crop Type'] = le_crop.transform(x_test['Crop Type']).astype(int)"
   ]
  },
  {
   "cell_type": "code",
   "execution_count": 7,
   "id": "617a5d32",
   "metadata": {
    "execution": {
     "iopub.execute_input": "2025-06-25T14:04:42.157057Z",
     "iopub.status.busy": "2025-06-25T14:04:42.156713Z",
     "iopub.status.idle": "2025-06-25T14:04:42.842398Z",
     "shell.execute_reply": "2025-06-25T14:04:42.841385Z"
    },
    "papermill": {
     "duration": 0.692519,
     "end_time": "2025-06-25T14:04:42.844237",
     "exception": false,
     "start_time": "2025-06-25T14:04:42.151718",
     "status": "completed"
    },
    "tags": []
   },
   "outputs": [],
   "source": [
    "model = XGBClassifier(random_state=42,\n",
    "                      n_estimators=1000,\n",
    "                      learning_rate=0.03,\n",
    "                      max_depth=7,\n",
    "                      subsample=0.8,\n",
    "                      colsample_bytree=0.3,\n",
    "                      reg_alpha=0.5,\n",
    "                      reg_lambda=1.0,\n",
    "                      objective='multi:softprob',\n",
    "                      use_label_encoder=False,\n",
    "                      num_class = len(np.unique(y)),\n",
    "                      max_bin = 128,\n",
    "                      colsample_bylevel=1,\n",
    "                      colsample_bynode=1,\n",
    "                      tree_method = 'hist',\n",
    "                      device = 'cuda',\n",
    "                      enable_categorical = True,\n",
    "                      early_stopping_rounds = 50,\n",
    "                    eval_metric='mlogloss')"
   ]
  },
  {
   "cell_type": "code",
   "execution_count": 8,
   "id": "216c2ec3",
   "metadata": {
    "execution": {
     "iopub.execute_input": "2025-06-25T14:04:42.852303Z",
     "iopub.status.busy": "2025-06-25T14:04:42.851991Z",
     "iopub.status.idle": "2025-06-25T14:11:17.333361Z",
     "shell.execute_reply": "2025-06-25T14:11:17.332302Z"
    },
    "papermill": {
     "duration": 394.487334,
     "end_time": "2025-06-25T14:11:17.335076",
     "exception": false,
     "start_time": "2025-06-25T14:04:42.847742",
     "status": "completed"
    },
    "tags": []
   },
   "outputs": [
    {
     "name": "stderr",
     "output_type": "stream",
     "text": [
      "/usr/local/lib/python3.11/dist-packages/xgboost/core.py:160: UserWarning: [14:04:43] WARNING: /workspace/src/context.cc:44: No visible GPU is found, setting device to CPU.\n",
      "  warnings.warn(smsg, UserWarning)\n"
     ]
    },
    {
     "name": "stdout",
     "output_type": "stream",
     "text": [
      "[0]\tvalidation_0-mlogloss:1.94567\n",
      "[10]\tvalidation_0-mlogloss:1.94347\n",
      "[20]\tvalidation_0-mlogloss:1.94158\n",
      "[30]\tvalidation_0-mlogloss:1.93997\n",
      "[40]\tvalidation_0-mlogloss:1.93860\n",
      "[50]\tvalidation_0-mlogloss:1.93731\n",
      "[60]\tvalidation_0-mlogloss:1.93619\n",
      "[70]\tvalidation_0-mlogloss:1.93508\n",
      "[80]\tvalidation_0-mlogloss:1.93409\n",
      "[90]\tvalidation_0-mlogloss:1.93321\n",
      "[100]\tvalidation_0-mlogloss:1.93236\n",
      "[110]\tvalidation_0-mlogloss:1.93153\n",
      "[120]\tvalidation_0-mlogloss:1.93069\n",
      "[130]\tvalidation_0-mlogloss:1.92991\n",
      "[140]\tvalidation_0-mlogloss:1.92918\n",
      "[150]\tvalidation_0-mlogloss:1.92851\n",
      "[160]\tvalidation_0-mlogloss:1.92785\n",
      "[170]\tvalidation_0-mlogloss:1.92718\n",
      "[180]\tvalidation_0-mlogloss:1.92654\n",
      "[190]\tvalidation_0-mlogloss:1.92587\n",
      "[200]\tvalidation_0-mlogloss:1.92531\n",
      "[210]\tvalidation_0-mlogloss:1.92472\n",
      "[220]\tvalidation_0-mlogloss:1.92415\n",
      "[230]\tvalidation_0-mlogloss:1.92363\n",
      "[240]\tvalidation_0-mlogloss:1.92311\n",
      "[250]\tvalidation_0-mlogloss:1.92258\n",
      "[260]\tvalidation_0-mlogloss:1.92211\n",
      "[270]\tvalidation_0-mlogloss:1.92161\n",
      "[280]\tvalidation_0-mlogloss:1.92114\n",
      "[290]\tvalidation_0-mlogloss:1.92067\n",
      "[300]\tvalidation_0-mlogloss:1.92018\n",
      "[310]\tvalidation_0-mlogloss:1.91976\n",
      "[320]\tvalidation_0-mlogloss:1.91933\n",
      "[330]\tvalidation_0-mlogloss:1.91892\n",
      "[340]\tvalidation_0-mlogloss:1.91846\n",
      "[350]\tvalidation_0-mlogloss:1.91804\n",
      "[360]\tvalidation_0-mlogloss:1.91758\n",
      "[370]\tvalidation_0-mlogloss:1.91714\n",
      "[380]\tvalidation_0-mlogloss:1.91674\n",
      "[390]\tvalidation_0-mlogloss:1.91635\n",
      "[400]\tvalidation_0-mlogloss:1.91599\n",
      "[410]\tvalidation_0-mlogloss:1.91563\n",
      "[420]\tvalidation_0-mlogloss:1.91525\n",
      "[430]\tvalidation_0-mlogloss:1.91489\n",
      "[440]\tvalidation_0-mlogloss:1.91451\n",
      "[450]\tvalidation_0-mlogloss:1.91413\n",
      "[460]\tvalidation_0-mlogloss:1.91379\n",
      "[470]\tvalidation_0-mlogloss:1.91341\n",
      "[480]\tvalidation_0-mlogloss:1.91307\n",
      "[490]\tvalidation_0-mlogloss:1.91270\n",
      "[500]\tvalidation_0-mlogloss:1.91235\n",
      "[510]\tvalidation_0-mlogloss:1.91202\n",
      "[520]\tvalidation_0-mlogloss:1.91168\n",
      "[530]\tvalidation_0-mlogloss:1.91134\n",
      "[540]\tvalidation_0-mlogloss:1.91101\n",
      "[550]\tvalidation_0-mlogloss:1.91066\n",
      "[560]\tvalidation_0-mlogloss:1.91035\n",
      "[570]\tvalidation_0-mlogloss:1.91003\n",
      "[580]\tvalidation_0-mlogloss:1.90972\n",
      "[590]\tvalidation_0-mlogloss:1.90939\n",
      "[600]\tvalidation_0-mlogloss:1.90909\n",
      "[610]\tvalidation_0-mlogloss:1.90882\n",
      "[620]\tvalidation_0-mlogloss:1.90852\n",
      "[630]\tvalidation_0-mlogloss:1.90823\n",
      "[640]\tvalidation_0-mlogloss:1.90795\n",
      "[650]\tvalidation_0-mlogloss:1.90768\n",
      "[660]\tvalidation_0-mlogloss:1.90736\n",
      "[670]\tvalidation_0-mlogloss:1.90704\n",
      "[680]\tvalidation_0-mlogloss:1.90674\n",
      "[690]\tvalidation_0-mlogloss:1.90644\n",
      "[700]\tvalidation_0-mlogloss:1.90612\n",
      "[710]\tvalidation_0-mlogloss:1.90583\n",
      "[720]\tvalidation_0-mlogloss:1.90556\n",
      "[730]\tvalidation_0-mlogloss:1.90526\n",
      "[740]\tvalidation_0-mlogloss:1.90497\n",
      "[750]\tvalidation_0-mlogloss:1.90471\n",
      "[760]\tvalidation_0-mlogloss:1.90442\n",
      "[770]\tvalidation_0-mlogloss:1.90415\n",
      "[780]\tvalidation_0-mlogloss:1.90389\n",
      "[790]\tvalidation_0-mlogloss:1.90361\n",
      "[800]\tvalidation_0-mlogloss:1.90334\n",
      "[810]\tvalidation_0-mlogloss:1.90306\n",
      "[820]\tvalidation_0-mlogloss:1.90282\n",
      "[830]\tvalidation_0-mlogloss:1.90256\n",
      "[840]\tvalidation_0-mlogloss:1.90231\n",
      "[850]\tvalidation_0-mlogloss:1.90206\n",
      "[860]\tvalidation_0-mlogloss:1.90180\n",
      "[870]\tvalidation_0-mlogloss:1.90154\n",
      "[880]\tvalidation_0-mlogloss:1.90129\n",
      "[890]\tvalidation_0-mlogloss:1.90102\n",
      "[900]\tvalidation_0-mlogloss:1.90073\n",
      "[910]\tvalidation_0-mlogloss:1.90051\n",
      "[920]\tvalidation_0-mlogloss:1.90028\n",
      "[930]\tvalidation_0-mlogloss:1.90007\n",
      "[940]\tvalidation_0-mlogloss:1.89980\n",
      "[950]\tvalidation_0-mlogloss:1.89957\n",
      "[960]\tvalidation_0-mlogloss:1.89931\n",
      "[970]\tvalidation_0-mlogloss:1.89908\n",
      "[980]\tvalidation_0-mlogloss:1.89882\n",
      "[990]\tvalidation_0-mlogloss:1.89858\n",
      "[999]\tvalidation_0-mlogloss:1.89838\n"
     ]
    },
    {
     "data": {
      "text/html": [
       "<style>#sk-container-id-1 {color: black;background-color: white;}#sk-container-id-1 pre{padding: 0;}#sk-container-id-1 div.sk-toggleable {background-color: white;}#sk-container-id-1 label.sk-toggleable__label {cursor: pointer;display: block;width: 100%;margin-bottom: 0;padding: 0.3em;box-sizing: border-box;text-align: center;}#sk-container-id-1 label.sk-toggleable__label-arrow:before {content: \"▸\";float: left;margin-right: 0.25em;color: #696969;}#sk-container-id-1 label.sk-toggleable__label-arrow:hover:before {color: black;}#sk-container-id-1 div.sk-estimator:hover label.sk-toggleable__label-arrow:before {color: black;}#sk-container-id-1 div.sk-toggleable__content {max-height: 0;max-width: 0;overflow: hidden;text-align: left;background-color: #f0f8ff;}#sk-container-id-1 div.sk-toggleable__content pre {margin: 0.2em;color: black;border-radius: 0.25em;background-color: #f0f8ff;}#sk-container-id-1 input.sk-toggleable__control:checked~div.sk-toggleable__content {max-height: 200px;max-width: 100%;overflow: auto;}#sk-container-id-1 input.sk-toggleable__control:checked~label.sk-toggleable__label-arrow:before {content: \"▾\";}#sk-container-id-1 div.sk-estimator input.sk-toggleable__control:checked~label.sk-toggleable__label {background-color: #d4ebff;}#sk-container-id-1 div.sk-label input.sk-toggleable__control:checked~label.sk-toggleable__label {background-color: #d4ebff;}#sk-container-id-1 input.sk-hidden--visually {border: 0;clip: rect(1px 1px 1px 1px);clip: rect(1px, 1px, 1px, 1px);height: 1px;margin: -1px;overflow: hidden;padding: 0;position: absolute;width: 1px;}#sk-container-id-1 div.sk-estimator {font-family: monospace;background-color: #f0f8ff;border: 1px dotted black;border-radius: 0.25em;box-sizing: border-box;margin-bottom: 0.5em;}#sk-container-id-1 div.sk-estimator:hover {background-color: #d4ebff;}#sk-container-id-1 div.sk-parallel-item::after {content: \"\";width: 100%;border-bottom: 1px solid gray;flex-grow: 1;}#sk-container-id-1 div.sk-label:hover label.sk-toggleable__label {background-color: #d4ebff;}#sk-container-id-1 div.sk-serial::before {content: \"\";position: absolute;border-left: 1px solid gray;box-sizing: border-box;top: 0;bottom: 0;left: 50%;z-index: 0;}#sk-container-id-1 div.sk-serial {display: flex;flex-direction: column;align-items: center;background-color: white;padding-right: 0.2em;padding-left: 0.2em;position: relative;}#sk-container-id-1 div.sk-item {position: relative;z-index: 1;}#sk-container-id-1 div.sk-parallel {display: flex;align-items: stretch;justify-content: center;background-color: white;position: relative;}#sk-container-id-1 div.sk-item::before, #sk-container-id-1 div.sk-parallel-item::before {content: \"\";position: absolute;border-left: 1px solid gray;box-sizing: border-box;top: 0;bottom: 0;left: 50%;z-index: -1;}#sk-container-id-1 div.sk-parallel-item {display: flex;flex-direction: column;z-index: 1;position: relative;background-color: white;}#sk-container-id-1 div.sk-parallel-item:first-child::after {align-self: flex-end;width: 50%;}#sk-container-id-1 div.sk-parallel-item:last-child::after {align-self: flex-start;width: 50%;}#sk-container-id-1 div.sk-parallel-item:only-child::after {width: 0;}#sk-container-id-1 div.sk-dashed-wrapped {border: 1px dashed gray;margin: 0 0.4em 0.5em 0.4em;box-sizing: border-box;padding-bottom: 0.4em;background-color: white;}#sk-container-id-1 div.sk-label label {font-family: monospace;font-weight: bold;display: inline-block;line-height: 1.2em;}#sk-container-id-1 div.sk-label-container {text-align: center;}#sk-container-id-1 div.sk-container {/* jupyter's `normalize.less` sets `[hidden] { display: none; }` but bootstrap.min.css set `[hidden] { display: none !important; }` so we also need the `!important` here to be able to override the default hidden behavior on the sphinx rendered scikit-learn.org. See: https://github.com/scikit-learn/scikit-learn/issues/21755 */display: inline-block !important;position: relative;}#sk-container-id-1 div.sk-text-repr-fallback {display: none;}</style><div id=\"sk-container-id-1\" class=\"sk-top-container\"><div class=\"sk-text-repr-fallback\"><pre>XGBClassifier(base_score=None, booster=None, callbacks=None,\n",
       "              colsample_bylevel=1, colsample_bynode=1, colsample_bytree=0.3,\n",
       "              device=&#x27;cuda&#x27;, early_stopping_rounds=50, enable_categorical=True,\n",
       "              eval_metric=&#x27;mlogloss&#x27;, feature_types=None, gamma=None,\n",
       "              grow_policy=None, importance_type=None,\n",
       "              interaction_constraints=None, learning_rate=0.03, max_bin=128,\n",
       "              max_cat_threshold=None, max_cat_to_onehot=None,\n",
       "              max_delta_step=None, max_depth=7, max_leaves=None,\n",
       "              min_child_weight=None, missing=nan, monotone_constraints=None,\n",
       "              multi_strategy=None, n_estimators=1000, n_jobs=None, num_class=7,\n",
       "              num_parallel_tree=None, ...)</pre><b>In a Jupyter environment, please rerun this cell to show the HTML representation or trust the notebook. <br />On GitHub, the HTML representation is unable to render, please try loading this page with nbviewer.org.</b></div><div class=\"sk-container\" hidden><div class=\"sk-item\"><div class=\"sk-estimator sk-toggleable\"><input class=\"sk-toggleable__control sk-hidden--visually\" id=\"sk-estimator-id-1\" type=\"checkbox\" checked><label for=\"sk-estimator-id-1\" class=\"sk-toggleable__label sk-toggleable__label-arrow\">XGBClassifier</label><div class=\"sk-toggleable__content\"><pre>XGBClassifier(base_score=None, booster=None, callbacks=None,\n",
       "              colsample_bylevel=1, colsample_bynode=1, colsample_bytree=0.3,\n",
       "              device=&#x27;cuda&#x27;, early_stopping_rounds=50, enable_categorical=True,\n",
       "              eval_metric=&#x27;mlogloss&#x27;, feature_types=None, gamma=None,\n",
       "              grow_policy=None, importance_type=None,\n",
       "              interaction_constraints=None, learning_rate=0.03, max_bin=128,\n",
       "              max_cat_threshold=None, max_cat_to_onehot=None,\n",
       "              max_delta_step=None, max_depth=7, max_leaves=None,\n",
       "              min_child_weight=None, missing=nan, monotone_constraints=None,\n",
       "              multi_strategy=None, n_estimators=1000, n_jobs=None, num_class=7,\n",
       "              num_parallel_tree=None, ...)</pre></div></div></div></div></div>"
      ],
      "text/plain": [
       "XGBClassifier(base_score=None, booster=None, callbacks=None,\n",
       "              colsample_bylevel=1, colsample_bynode=1, colsample_bytree=0.3,\n",
       "              device='cuda', early_stopping_rounds=50, enable_categorical=True,\n",
       "              eval_metric='mlogloss', feature_types=None, gamma=None,\n",
       "              grow_policy=None, importance_type=None,\n",
       "              interaction_constraints=None, learning_rate=0.03, max_bin=128,\n",
       "              max_cat_threshold=None, max_cat_to_onehot=None,\n",
       "              max_delta_step=None, max_depth=7, max_leaves=None,\n",
       "              min_child_weight=None, missing=nan, monotone_constraints=None,\n",
       "              multi_strategy=None, n_estimators=1000, n_jobs=None, num_class=7,\n",
       "              num_parallel_tree=None, ...)"
      ]
     },
     "execution_count": 8,
     "metadata": {},
     "output_type": "execute_result"
    }
   ],
   "source": [
    "model.fit(x, y_encoded,eval_set = [(x,y_encoded)],verbose=10)"
   ]
  },
  {
   "cell_type": "code",
   "execution_count": 9,
   "id": "9c0115b2",
   "metadata": {
    "execution": {
     "iopub.execute_input": "2025-06-25T14:11:17.354206Z",
     "iopub.status.busy": "2025-06-25T14:11:17.353916Z",
     "iopub.status.idle": "2025-06-25T14:11:17.358709Z",
     "shell.execute_reply": "2025-06-25T14:11:17.357863Z"
    },
    "papermill": {
     "duration": 0.01556,
     "end_time": "2025-06-25T14:11:17.360232",
     "exception": false,
     "start_time": "2025-06-25T14:11:17.344672",
     "status": "completed"
    },
    "tags": []
   },
   "outputs": [],
   "source": [
    "start_time = time.time()\n",
    "training_time = time.time() - start_time"
   ]
  },
  {
   "cell_type": "code",
   "execution_count": 10,
   "id": "dd40fda8",
   "metadata": {
    "execution": {
     "iopub.execute_input": "2025-06-25T14:11:17.378069Z",
     "iopub.status.busy": "2025-06-25T14:11:17.377460Z",
     "iopub.status.idle": "2025-06-25T14:11:17.383809Z",
     "shell.execute_reply": "2025-06-25T14:11:17.382929Z"
    },
    "papermill": {
     "duration": 0.016779,
     "end_time": "2025-06-25T14:11:17.385261",
     "exception": false,
     "start_time": "2025-06-25T14:11:17.368482",
     "status": "completed"
    },
    "tags": []
   },
   "outputs": [],
   "source": [
    "def map3(y_true, y_pred_probs):\n",
    "    y_true = [[x] for x in y_true]\n",
    "    y_pred_probs = np.argsort(y_pred_probs, axis=1)[:, -3:][:, ::-1].tolist()\n",
    "    \n",
    "    def ap3(y_true, y_pred_probs):\n",
    "        y_pred_probs = y_pred_probs[:3]\n",
    "\n",
    "        score = 0.0\n",
    "        num_hits = 0.0\n",
    "\n",
    "        for i,p in enumerate(y_pred_probs):\n",
    "            if p in y_true and p not in y_pred_probs[:i]:\n",
    "                num_hits += 1.0\n",
    "                score += num_hits / (i+1.0)\n",
    "\n",
    "        if not y_true:\n",
    "            return 0.0\n",
    "\n",
    "        return score\n",
    "    \n",
    "    return np.mean([ap3(a,p) for a,p in zip(y_true, y_pred_probs)])"
   ]
  },
  {
   "cell_type": "code",
   "execution_count": 11,
   "id": "30f9437f",
   "metadata": {
    "execution": {
     "iopub.execute_input": "2025-06-25T14:11:17.402883Z",
     "iopub.status.busy": "2025-06-25T14:11:17.402529Z",
     "iopub.status.idle": "2025-06-25T14:11:43.226310Z",
     "shell.execute_reply": "2025-06-25T14:11:43.225666Z"
    },
    "papermill": {
     "duration": 25.834769,
     "end_time": "2025-06-25T14:11:43.228306",
     "exception": false,
     "start_time": "2025-06-25T14:11:17.393537",
     "status": "completed"
    },
    "tags": []
   },
   "outputs": [],
   "source": [
    "sample_size = min(5000,len(x))\n",
    "sample_idx = np.random.choice(len(x), sample_size,replace=False)\n",
    "sample_probs = model.predict_proba(x.iloc[sample_idx])\n",
    "sample_map3 = map3(y_encoded[sample_idx], sample_probs)\n",
    "\n",
    "prediction_start = time.time()\n",
    "test_prob = model.predict_proba(x_test)\n"
   ]
  },
  {
   "cell_type": "code",
   "execution_count": 12,
   "id": "8e24dc62",
   "metadata": {
    "execution": {
     "iopub.execute_input": "2025-06-25T14:11:43.251069Z",
     "iopub.status.busy": "2025-06-25T14:11:43.250754Z",
     "iopub.status.idle": "2025-06-25T14:12:07.786798Z",
     "shell.execute_reply": "2025-06-25T14:12:07.785787Z"
    },
    "papermill": {
     "duration": 24.547145,
     "end_time": "2025-06-25T14:12:07.788665",
     "exception": false,
     "start_time": "2025-06-25T14:11:43.241520",
     "status": "completed"
    },
    "tags": []
   },
   "outputs": [],
   "source": [
    "top3 = np.argsort(test_prob, axis=1)[:,-3:][:,::-1]\n",
    "top3_fertilizers = []\n",
    "for row in top3:\n",
    "    fertilizer_names = le.inverse_transform(row)\n",
    "    top3_fertilizers.append(' '.join(fertilizer_names))"
   ]
  },
  {
   "cell_type": "code",
   "execution_count": 13,
   "id": "4ee79d2d",
   "metadata": {
    "execution": {
     "iopub.execute_input": "2025-06-25T14:12:07.806438Z",
     "iopub.status.busy": "2025-06-25T14:12:07.806097Z",
     "iopub.status.idle": "2025-06-25T14:12:07.810678Z",
     "shell.execute_reply": "2025-06-25T14:12:07.809783Z"
    },
    "papermill": {
     "duration": 0.015037,
     "end_time": "2025-06-25T14:12:07.812191",
     "exception": false,
     "start_time": "2025-06-25T14:12:07.797154",
     "status": "completed"
    },
    "tags": []
   },
   "outputs": [],
   "source": [
    "prediction_time = time.time() - prediction_start"
   ]
  },
  {
   "cell_type": "code",
   "execution_count": 14,
   "id": "e90283a5",
   "metadata": {
    "execution": {
     "iopub.execute_input": "2025-06-25T14:12:07.830037Z",
     "iopub.status.busy": "2025-06-25T14:12:07.829711Z",
     "iopub.status.idle": "2025-06-25T14:12:08.274514Z",
     "shell.execute_reply": "2025-06-25T14:12:08.273471Z"
    },
    "papermill": {
     "duration": 0.456287,
     "end_time": "2025-06-25T14:12:08.276678",
     "exception": false,
     "start_time": "2025-06-25T14:12:07.820391",
     "status": "completed"
    },
    "tags": []
   },
   "outputs": [],
   "source": [
    "submission = pd.DataFrame({\n",
    "    'id': test_df['id'],\n",
    "    'Fertilizer Name': top3_fertilizers\n",
    "})\n",
    "submission.to_csv('submission.csv', index=False)"
   ]
  }
 ],
 "metadata": {
  "kaggle": {
   "accelerator": "none",
   "dataSources": [
    {
     "databundleVersionId": 12184666,
     "sourceId": 91717,
     "sourceType": "competition"
    }
   ],
   "dockerImageVersionId": 31040,
   "isGpuEnabled": false,
   "isInternetEnabled": true,
   "language": "python",
   "sourceType": "notebook"
  },
  "kernelspec": {
   "display_name": "Python 3",
   "language": "python",
   "name": "python3"
  },
  "language_info": {
   "codemirror_mode": {
    "name": "ipython",
    "version": 3
   },
   "file_extension": ".py",
   "mimetype": "text/x-python",
   "name": "python",
   "nbconvert_exporter": "python",
   "pygments_lexer": "ipython3",
   "version": "3.11.11"
  },
  "papermill": {
   "default_parameters": {},
   "duration": 458.432004,
   "end_time": "2025-06-25T14:12:09.108425",
   "environment_variables": {},
   "exception": null,
   "input_path": "__notebook__.ipynb",
   "output_path": "__notebook__.ipynb",
   "parameters": {},
   "start_time": "2025-06-25T14:04:30.676421",
   "version": "2.6.0"
  }
 },
 "nbformat": 4,
 "nbformat_minor": 5
}
